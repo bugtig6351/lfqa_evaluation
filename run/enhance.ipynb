{
 "cells": [
  {
   "cell_type": "code",
   "execution_count": 1,
   "metadata": {},
   "outputs": [
    {
     "name": "stderr",
     "output_type": "stream",
     "text": [
      "c:\\Users\\1\\anaconda3\\envs\\rag\\lib\\site-packages\\tqdm\\auto.py:21: TqdmWarning: IProgress not found. Please update jupyter and ipywidgets. See https://ipywidgets.readthedocs.io/en/stable/user_install.html\n",
      "  from .autonotebook import tqdm as notebook_tqdm\n"
     ]
    }
   ],
   "source": [
    "import pandas as pd\n",
    "import numpy as np\n",
    "import os\n",
    "import json \n",
    "import sys\n",
    "from typing import Dict, Tuple, Any, Optional, List\n",
    "sys.path.append('..')\n",
    "import time\n",
    "from src.utils import load_data"
   ]
  },
  {
   "cell_type": "code",
   "execution_count": 11,
   "metadata": {},
   "outputs": [],
   "source": [
    "sys.path.append(r'C:\\Users\\1\\Documents\\GitHub\\rageval')\n",
    "from rageval.models import OpenAILLM"
   ]
  },
  {
   "cell_type": "code",
   "execution_count": 16,
   "metadata": {},
   "outputs": [],
   "source": [
    "# dataset with human annotations\n",
    "df_asqa = load_data('../data/asqa/asqa_with_human_343.json')\n",
    "df_wikieval = load_data('../data/wikieval/all.json')\n",
    "df_antique = load_data('../data/antique/all.json')"
   ]
  },
  {
   "cell_type": "code",
   "execution_count": 5,
   "metadata": {},
   "outputs": [],
   "source": [
    "df = load_data('../data/enhance/wikieval.json')"
   ]
  },
  {
   "cell_type": "code",
   "execution_count": 6,
   "metadata": {},
   "outputs": [
    {
     "data": {
      "text/plain": [
       "Index(['id', 'answer', 'context', 'question', 'model', 'gt_answer', 'dataset',\n",
       "       'GPT-4o', 'Claude-3.5', 'Gemini-2.0', 'Human Accuracy',\n",
       "       'Human Informativeness', 'Human', 'Rouge L', 'BERT Score',\n",
       "       'GPT-4o Fine-grained', 'answer_length', 'full_1_gpt-4o',\n",
       "       'full1_ref_gemini-2.0-flash-exp_acc',\n",
       "       'full1_ref_gemini-2.0-flash-exp_inf', 'full1_ref_gemini-2.0-flash-exp'],\n",
       "      dtype='object')"
      ]
     },
     "execution_count": 6,
     "metadata": {},
     "output_type": "execute_result"
    }
   ],
   "source": [
    "df.columns"
   ]
  },
  {
   "cell_type": "code",
   "execution_count": 68,
   "metadata": {},
   "outputs": [],
   "source": [
    "SHORT_INSTRUCTION = \"\"\"Provide a brief, objective explanation, then rate the response from 1 to 10 using the format: Rating: [[5]].\n",
    "\"\"\"\n",
    "\n",
    "TASK_INSTRUCTION = \"\"\"Score the following llm output of a question answering task with respect to following aspects with 1 to 5 stars.\"\"\"\n",
    "DATASET_INSTRUCTION = \"\"\"The dataset is a Factoid Question-Answering dataset, specifically designed for evaluating factual precision and detailed comparative reasoning in AI-generated answers.\"\"\"\n",
    "OUTPUT_INSTRUCTION = \"\"\"Begin your evaluation by providing a short explanation. Be as objective as possible. After providing your explanation, please provide your evaluation by strictly following the JSON format such as: [[SCORE]] {\"accuracy\": 2, \"informativeness\": 3}.\"\"\"\n",
    "ACC_INSTRUCTION = \"\"\"Accuracy: determine the accuracy of the answers, verifying the correctness and reliability of the provided information.\n",
    "1 star means Incorrect information \n",
    "2 stars means Partially correct information \n",
    "3 stars means half correct information\n",
    "4 stars means Mostly correct information \n",
    "5 stars means Perfectly correct information\"\"\"\n",
    "INF_INSTRUCTION = \"\"\"Informativeness: examines whether the answers provide sufficient and meaningful information that useful to the user and relevant to the question.\n",
    "1 star means No information or irrelevant information\n",
    "2 star means Very little information\n",
    "3 stars means Some information\n",
    "4 stars means Enough information\n",
    "5 stars means Highly informative\"\"\"\n",
    "ACC_SHORT = \"\"\"Accuracy: determine the accuracy of the answers, verifying the correctness and reliability of the provided information.\"\"\"\n",
    "INF_SHORT = \"\"\"Informativeness: examines whether the answers provide sufficient and meaningful information that useful to the user and relevant to the question.\"\"\"\n",
    "\n",
    "\n",
    "QA = \"\"\"[Question]\n",
    "{question}\n",
    "\n",
    "[The Start of Assistant’s Answer]\n",
    "{answer}\n",
    "[The End of Assistant’s Answer]\"\"\"\n",
    "\n",
    "QA_REF = \"\"\"[Question]\n",
    "{question}\n",
    "\n",
    "[The Start of Reference]\n",
    "{answer_ref}\n",
    "[The End of Reference]\n",
    "\n",
    "[The Start of Assistant’s Answer]\n",
    "{answer}\n",
    "[The End of Assistant’s Answer]\"\"\"\n",
    "\n",
    "P1 = TASK_INSTRUCTION + DATASET_INSTRUCTION + OUTPUT_INSTRUCTION + '\\n'+ACC_INSTRUCTION + '\\n' + INF_INSTRUCTION\n",
    "P2 = TASK_INSTRUCTION + DATASET_INSTRUCTION + OUTPUT_INSTRUCTION\n",
    "P3 = TASK_INSTRUCTION + DATASET_INSTRUCTION + '\\n'+ACC_INSTRUCTION + '\\n' + INF_INSTRUCTION + '\\n' + OUTPUT_INSTRUCTION\n",
    "P4 = OUTPUT_INSTRUCTION + TASK_INSTRUCTION + DATASET_INSTRUCTION + '\\n'+ACC_INSTRUCTION + '\\n' + INF_INSTRUCTION\n",
    "P5 = TASK_INSTRUCTION + OUTPUT_INSTRUCTION + '\\n'+ACC_INSTRUCTION + '\\n' + INF_INSTRUCTION\n",
    "P6 = DATASET_INSTRUCTION + OUTPUT_INSTRUCTION + '\\n'+ACC_INSTRUCTION + '\\n' + INF_INSTRUCTION\n",
    "P7 = OUTPUT_INSTRUCTION + '\\n'+ACC_INSTRUCTION + '\\n' + INF_INSTRUCTION+ '\\n'  + TASK_INSTRUCTION + DATASET_INSTRUCTION\n",
    "P8 = DATASET_INSTRUCTION + TASK_INSTRUCTION + '\\n'+ACC_SHORT + '\\n' + INF_SHORT+ '\\n' + OUTPUT_INSTRUCTION\n",
    "P9 = DATASET_INSTRUCTION + TASK_INSTRUCTION + '\\n'+ACC_INSTRUCTION + '\\n' + INF_INSTRUCTION+ '\\n' + OUTPUT_INSTRUCTION"
   ]
  },
  {
   "cell_type": "code",
   "execution_count": 69,
   "metadata": {},
   "outputs": [],
   "source": [
    "def gen_prompt(question, answer, ref=None, system_instruction='', user_instruction=QA):\n",
    "    if ref is not None:\n",
    "        return [\n",
    "            {\"role\": \"system\", \"content\": system_instruction.strip()},\n",
    "            {\"role\": \"user\", \"content\": user_instruction.format(question=question, answer=answer, answer_ref=ref)}\n",
    "        ]\n",
    "    else:\n",
    "        return [\n",
    "            {\"role\": \"system\", \"content\": system_instruction.strip()},\n",
    "            {\"role\": \"user\", \"content\": user_instruction.format(question=question, answer=answer)}\n",
    "        ]\n",
    "prompts = [gen_prompt(df['question'][i], df['answer'][i], df['gt_answer'][i], system_instruction=P9, user_instruction=QA_REF) for i in range(len(df))]"
   ]
  },
  {
   "cell_type": "code",
   "execution_count": 9,
   "metadata": {},
   "outputs": [],
   "source": [
    "from src.models import results_to_dict, get_score_and_re_eval, evaluate\n",
    "\n",
    "def get_score_and_re_eval(llm_evaluator, results, prompts, texts, use_json=False, max_retries=3):\n",
    "    def re_eval(prompts):\n",
    "        r, t = evaluate(llm_evaluator, prompts, cache_path=None, max_workers=16)\n",
    "        return r, t\n",
    "\n",
    "    def get_score(texts):\n",
    "        scores = []\n",
    "        errors = []\n",
    "        if not use_json:\n",
    "            for i, d in enumerate(texts):\n",
    "                d = d.split(\"[[\")[-1].strip()\n",
    "                d = d.split(\"]]\")[0].strip()\n",
    "                try:\n",
    "                    scores.append(int(d))\n",
    "                except Exception as e:\n",
    "                    print(i, e)\n",
    "                    errors.append(i)\n",
    "                    scores.append(0)\n",
    "        else:\n",
    "            for i, d in enumerate(texts):\n",
    "                try:\n",
    "                    d = d.split('[[SCORE]]')[-1].strip()\n",
    "                    d = json.loads(d)\n",
    "                    scores.append(d)\n",
    "                except Exception as e:\n",
    "                    print(i, e)\n",
    "                    errors.append(i)\n",
    "                    scores.append(0)\n",
    "        return np.array(scores), np.array(errors)\n",
    "\n",
    "    scores, errors = get_score(texts)\n",
    "    \n",
    "    results = np.array(results)\n",
    "    texts = np.array(texts)\n",
    "    prompts = np.array(prompts)\n",
    "    \n",
    "    retry = 0\n",
    "    while(len(errors) > 0 and retry < max_retries):\n",
    "        re_results, re_texts = re_eval(prompts[errors].tolist())\n",
    "        re_scores, re_errors = get_score(re_texts)\n",
    "        scores[errors] = re_scores\n",
    "        results[errors] = re_results\n",
    "        texts[errors] = re_texts\n",
    "        errors = re_errors\n",
    "        retry += 1\n",
    "\n",
    "    # with open(f\"results/{name_suffix}.json\", \"a+\") as f:\n",
    "    #     f.write(json.dumps([results_to_dict(r) for r in results]))\n",
    "    return scores, texts, results\n"
   ]
  },
  {
   "cell_type": "code",
   "execution_count": 70,
   "metadata": {},
   "outputs": [
    {
     "name": "stderr",
     "output_type": "stream",
     "text": [
      "Generating: 100%|██████████| 350/350 [01:33<00:00,  3.74it/s]\n"
     ]
    },
    {
     "name": "stdout",
     "output_type": "stream",
     "text": [
      "92 Expecting value: line 1 column 1 (char 0)\n",
      "208 Expecting value: line 1 column 1 (char 0)\n",
      "300 Expecting value: line 1 column 1 (char 0)\n"
     ]
    },
    {
     "name": "stderr",
     "output_type": "stream",
     "text": [
      "Generating: 100%|██████████| 3/3 [00:04<00:00,  1.55s/it]\n"
     ]
    }
   ],
   "source": [
    "models = ['gpt-4o', 'claude-3-5-sonnet-20241022', 'gemini-2.0-flash-exp']\n",
    "model = 'gpt-4o'\n",
    "\n",
    "import time\n",
    "p=9\n",
    "# prompts = short_prompts\n",
    "for model in models:\n",
    "    if model != 'gpt-4o':\n",
    "        continue\n",
    "    timestamp = time.strftime(\"%Y%m%d_%H%M%S\")\n",
    "    llm_evaluator = OpenAILLM(model=model, \n",
    "                              _api_key_env_var=\"API_KEY\",\n",
    "                              base_url=os.getenv(\"BASE_URL\"),)\n",
    "\n",
    "    results, texts = evaluate(llm_evaluator, prompts, cache_path=None, max_workers=16)\n",
    "    scores, texts, results = get_score_and_re_eval(llm_evaluator, results, prompts, texts, use_json=True, max_retries=2)\n",
    "    scores = np.array([[a['accuracy'],a['informativeness']] for a in scores])\n",
    "    \n",
    "    with open(f\"../data/run/wikieval_{model}_{timestamp}.json\", \"a+\") as f:\n",
    "         f.write(json.dumps([results_to_dict(r) for r in results]))\n",
    "    \n",
    "    # if prompts == short_prompts:\n",
    "    df[f'p{p}_ref_{model}_acc'] = scores[:,0]\n",
    "    df[f'p{p}_ref_{model}_inf'] = scores[:,1]\n",
    "    df[f'p{p}_ref_{model}'] = scores.sum(axis=1)"
   ]
  },
  {
   "cell_type": "code",
   "execution_count": 71,
   "metadata": {},
   "outputs": [],
   "source": [
    "df.to_json(f'../data/enhance/wikieval.json', orient='records', lines=True)"
   ]
  },
  {
   "cell_type": "code",
   "execution_count": 87,
   "metadata": {},
   "outputs": [
    {
     "data": {
      "text/plain": [
       "Index(['id', 'answer', 'context', 'question', 'model', 'gt_answer', 'dataset',\n",
       "       'GPT-4o', 'Claude-3.5', 'Gemini-2.0', 'Human Accuracy',\n",
       "       'Human Informativeness', 'Human', 'Rouge L', 'BERT Score',\n",
       "       'GPT-4o Fine-grained', 'answer_length', 'p_1_gpt-4o',\n",
       "       'p1_ref_gemini-2.0-flash-exp_acc', 'p1_ref_gemini-2.0-flash-exp_inf',\n",
       "       'p1_ref_gemini-2.0-flash-exp', 'p2_ref_gpt-4o_acc', 'p2_ref_gpt-4o_inf',\n",
       "       'p2_ref_gpt-4o', 'p1_ref_gpt-4o_acc', 'p1_ref_gpt-4o_inf',\n",
       "       'p1_ref_gpt-4o', 'p3_ref_gpt-4o_acc', 'p3_ref_gpt-4o_inf',\n",
       "       'p3_ref_gpt-4o', 'p4_ref_gpt-4o_acc', 'p4_ref_gpt-4o_inf',\n",
       "       'p4_ref_gpt-4o', 'p5_ref_gpt-4o_acc', 'p5_ref_gpt-4o_inf',\n",
       "       'p5_ref_gpt-4o', 'p6_ref_gpt-4o_acc', 'p6_ref_gpt-4o_inf',\n",
       "       'p6_ref_gpt-4o', 'p7_ref_gpt-4o_acc', 'p7_ref_gpt-4o_inf',\n",
       "       'p7_ref_gpt-4o', 'p8_ref_gpt-4o_acc', 'p8_ref_gpt-4o_inf',\n",
       "       'p8_ref_gpt-4o', 'p9_ref_gpt-4o_acc', 'p9_ref_gpt-4o_inf',\n",
       "       'p9_ref_gpt-4o', 'average_score'],\n",
       "      dtype='object')"
      ]
     },
     "execution_count": 87,
     "metadata": {},
     "output_type": "execute_result"
    }
   ],
   "source": [
    "df.columns"
   ]
  },
  {
   "cell_type": "code",
   "execution_count": 132,
   "metadata": {},
   "outputs": [],
   "source": [
    "df_kendall = df.groupby('model')[['Human', 'GPT-4o', 'Claude-3.5', 'Gemini-2.0', 'p1_ref_gpt-4o', 'p2_ref_gpt-4o', 'p3_ref_gpt-4o', 'p4_ref_gpt-4o', 'p5_ref_gpt-4o', 'p6_ref_gpt-4o', 'p7_ref_gpt-4o', 'p8_ref_gpt-4o', 'p9_ref_gpt-4o']].corr('kendall')[['Human']].reset_index().pivot(index='model', columns='level_1', values='Human')[['GPT-4o', 'Claude-3.5', 'Gemini-2.0', 'p1_ref_gpt-4o', 'p2_ref_gpt-4o', 'p3_ref_gpt-4o', 'p4_ref_gpt-4o', 'p5_ref_gpt-4o', 'p6_ref_gpt-4o', 'p7_ref_gpt-4o', 'p8_ref_gpt-4o', 'p9_ref_gpt-4o']]"
   ]
  },
  {
   "cell_type": "code",
   "execution_count": 143,
   "metadata": {},
   "outputs": [
    {
     "data": {
      "text/plain": [
       "'{P1} & {P2} & {P3} & {P4} & {P5} & {P6} & {P7} & {P8} & {P9}'"
      ]
     },
     "execution_count": 143,
     "metadata": {},
     "output_type": "execute_result"
    }
   ],
   "source": [
    "' & '.join([f'{{P{i}}}' for i in range(1,10)])"
   ]
  },
  {
   "cell_type": "code",
   "execution_count": 133,
   "metadata": {},
   "outputs": [
    {
     "data": {
      "text/html": [
       "<div>\n",
       "<style scoped>\n",
       "    .dataframe tbody tr th:only-of-type {\n",
       "        vertical-align: middle;\n",
       "    }\n",
       "\n",
       "    .dataframe tbody tr th {\n",
       "        vertical-align: top;\n",
       "    }\n",
       "\n",
       "    .dataframe thead th {\n",
       "        text-align: right;\n",
       "    }\n",
       "</style>\n",
       "<table border=\"1\" class=\"dataframe\">\n",
       "  <thead>\n",
       "    <tr style=\"text-align: right;\">\n",
       "      <th>level_1</th>\n",
       "      <th>GPT-4o</th>\n",
       "      <th>Claude-3.5</th>\n",
       "      <th>Gemini-2.0</th>\n",
       "      <th>p1_ref_gpt-4o</th>\n",
       "      <th>p2_ref_gpt-4o</th>\n",
       "      <th>p3_ref_gpt-4o</th>\n",
       "      <th>p4_ref_gpt-4o</th>\n",
       "      <th>p5_ref_gpt-4o</th>\n",
       "      <th>p6_ref_gpt-4o</th>\n",
       "      <th>p7_ref_gpt-4o</th>\n",
       "      <th>p8_ref_gpt-4o</th>\n",
       "      <th>p9_ref_gpt-4o</th>\n",
       "    </tr>\n",
       "    <tr>\n",
       "      <th>model</th>\n",
       "      <th></th>\n",
       "      <th></th>\n",
       "      <th></th>\n",
       "      <th></th>\n",
       "      <th></th>\n",
       "      <th></th>\n",
       "      <th></th>\n",
       "      <th></th>\n",
       "      <th></th>\n",
       "      <th></th>\n",
       "      <th></th>\n",
       "      <th></th>\n",
       "    </tr>\n",
       "  </thead>\n",
       "  <tbody>\n",
       "    <tr>\n",
       "      <th>glm4-9b</th>\n",
       "      <td>0.347633</td>\n",
       "      <td>-0.013889</td>\n",
       "      <td>0.320449</td>\n",
       "      <td>0.433268</td>\n",
       "      <td>0.173149</td>\n",
       "      <td>0.382453</td>\n",
       "      <td>0.446342</td>\n",
       "      <td>0.386761</td>\n",
       "      <td>0.388613</td>\n",
       "      <td>0.370174</td>\n",
       "      <td>0.323802</td>\n",
       "      <td>0.422527</td>\n",
       "    </tr>\n",
       "    <tr>\n",
       "      <th>gpt-3.5-turbo</th>\n",
       "      <td>0.364742</td>\n",
       "      <td>0.344546</td>\n",
       "      <td>0.299940</td>\n",
       "      <td>0.529161</td>\n",
       "      <td>0.370887</td>\n",
       "      <td>0.641140</td>\n",
       "      <td>0.590102</td>\n",
       "      <td>0.448302</td>\n",
       "      <td>0.515747</td>\n",
       "      <td>0.488293</td>\n",
       "      <td>0.497160</td>\n",
       "      <td>0.563161</td>\n",
       "    </tr>\n",
       "    <tr>\n",
       "      <th>llama2-13b</th>\n",
       "      <td>0.516609</td>\n",
       "      <td>0.281606</td>\n",
       "      <td>0.565905</td>\n",
       "      <td>0.681963</td>\n",
       "      <td>0.621847</td>\n",
       "      <td>0.633929</td>\n",
       "      <td>0.600083</td>\n",
       "      <td>0.629797</td>\n",
       "      <td>0.637665</td>\n",
       "      <td>0.637889</td>\n",
       "      <td>0.640677</td>\n",
       "      <td>0.602820</td>\n",
       "    </tr>\n",
       "    <tr>\n",
       "      <th>llama2-7b</th>\n",
       "      <td>0.527721</td>\n",
       "      <td>0.416062</td>\n",
       "      <td>0.478938</td>\n",
       "      <td>0.588544</td>\n",
       "      <td>0.556268</td>\n",
       "      <td>0.605561</td>\n",
       "      <td>0.629873</td>\n",
       "      <td>0.571974</td>\n",
       "      <td>0.584629</td>\n",
       "      <td>0.528236</td>\n",
       "      <td>0.587895</td>\n",
       "      <td>0.585584</td>\n",
       "    </tr>\n",
       "    <tr>\n",
       "      <th>llama3-8b</th>\n",
       "      <td>0.376630</td>\n",
       "      <td>0.359630</td>\n",
       "      <td>0.194153</td>\n",
       "      <td>0.565894</td>\n",
       "      <td>0.559058</td>\n",
       "      <td>0.453501</td>\n",
       "      <td>0.593916</td>\n",
       "      <td>0.529960</td>\n",
       "      <td>0.412936</td>\n",
       "      <td>0.548832</td>\n",
       "      <td>0.535612</td>\n",
       "      <td>0.533337</td>\n",
       "    </tr>\n",
       "    <tr>\n",
       "      <th>mistral-7b</th>\n",
       "      <td>0.399664</td>\n",
       "      <td>0.085460</td>\n",
       "      <td>0.089096</td>\n",
       "      <td>0.335262</td>\n",
       "      <td>0.299075</td>\n",
       "      <td>0.331836</td>\n",
       "      <td>0.237773</td>\n",
       "      <td>0.226648</td>\n",
       "      <td>0.240902</td>\n",
       "      <td>0.332301</td>\n",
       "      <td>0.233912</td>\n",
       "      <td>0.257778</td>\n",
       "    </tr>\n",
       "    <tr>\n",
       "      <th>solar-10.7b</th>\n",
       "      <td>0.354548</td>\n",
       "      <td>0.272995</td>\n",
       "      <td>0.440114</td>\n",
       "      <td>0.477493</td>\n",
       "      <td>0.504641</td>\n",
       "      <td>0.571792</td>\n",
       "      <td>0.502481</td>\n",
       "      <td>0.453427</td>\n",
       "      <td>0.401053</td>\n",
       "      <td>0.553951</td>\n",
       "      <td>0.500659</td>\n",
       "      <td>0.595525</td>\n",
       "    </tr>\n",
       "  </tbody>\n",
       "</table>\n",
       "</div>"
      ],
      "text/plain": [
       "level_1          GPT-4o  Claude-3.5  Gemini-2.0  p1_ref_gpt-4o  p2_ref_gpt-4o  \\\n",
       "model                                                                           \n",
       "glm4-9b        0.347633   -0.013889    0.320449       0.433268       0.173149   \n",
       "gpt-3.5-turbo  0.364742    0.344546    0.299940       0.529161       0.370887   \n",
       "llama2-13b     0.516609    0.281606    0.565905       0.681963       0.621847   \n",
       "llama2-7b      0.527721    0.416062    0.478938       0.588544       0.556268   \n",
       "llama3-8b      0.376630    0.359630    0.194153       0.565894       0.559058   \n",
       "mistral-7b     0.399664    0.085460    0.089096       0.335262       0.299075   \n",
       "solar-10.7b    0.354548    0.272995    0.440114       0.477493       0.504641   \n",
       "\n",
       "level_1        p3_ref_gpt-4o  p4_ref_gpt-4o  p5_ref_gpt-4o  p6_ref_gpt-4o  \\\n",
       "model                                                                       \n",
       "glm4-9b             0.382453       0.446342       0.386761       0.388613   \n",
       "gpt-3.5-turbo       0.641140       0.590102       0.448302       0.515747   \n",
       "llama2-13b          0.633929       0.600083       0.629797       0.637665   \n",
       "llama2-7b           0.605561       0.629873       0.571974       0.584629   \n",
       "llama3-8b           0.453501       0.593916       0.529960       0.412936   \n",
       "mistral-7b          0.331836       0.237773       0.226648       0.240902   \n",
       "solar-10.7b         0.571792       0.502481       0.453427       0.401053   \n",
       "\n",
       "level_1        p7_ref_gpt-4o  p8_ref_gpt-4o  p9_ref_gpt-4o  \n",
       "model                                                       \n",
       "glm4-9b             0.370174       0.323802       0.422527  \n",
       "gpt-3.5-turbo       0.488293       0.497160       0.563161  \n",
       "llama2-13b          0.637889       0.640677       0.602820  \n",
       "llama2-7b           0.528236       0.587895       0.585584  \n",
       "llama3-8b           0.548832       0.535612       0.533337  \n",
       "mistral-7b          0.332301       0.233912       0.257778  \n",
       "solar-10.7b         0.553951       0.500659       0.595525  "
      ]
     },
     "execution_count": 133,
     "metadata": {},
     "output_type": "execute_result"
    }
   ],
   "source": [
    "df_kendall"
   ]
  },
  {
   "cell_type": "code",
   "execution_count": 160,
   "metadata": {},
   "outputs": [],
   "source": [
    "avg = df[['Human', 'GPT-4o', 'Claude-3.5', 'Gemini-2.0', 'p1_ref_gpt-4o', 'p2_ref_gpt-4o', 'p3_ref_gpt-4o', 'p4_ref_gpt-4o', 'p5_ref_gpt-4o', 'p6_ref_gpt-4o', 'p7_ref_gpt-4o', 'p8_ref_gpt-4o', 'p9_ref_gpt-4o']].corr('kendall')['Human'].values[1:]\n",
    "avg_diff = avg-avg[0]"
   ]
  },
  {
   "cell_type": "code",
   "execution_count": 167,
   "metadata": {},
   "outputs": [
    {
     "name": "stdout",
     "output_type": "stream",
     "text": [
      "\\rowcolor{gray!10}\\textbf{glm4-9b} & 34.76 & \\cellcolor{blue!54.23}{-36.15} & \\cellcolor{blue!4.08}{-2.72} & \\cellcolor{red!12.85}{8.56} & \\cellcolor{blue!26.17}{-17.45} & \\cellcolor{red!5.22}{3.48} & \\cellcolor{red!14.81}{9.87} & \\cellcolor{red!5.87}{3.91} & \\cellcolor{red!6.15}{4.10} & \\cellcolor{red!3.38}{2.25} & \\cellcolor{blue!3.57}{-2.38} & \\cellcolor{red!11.23}{7.49} \\\\\n",
      "\\textbf{gpt-3.5-turbo} & 36.47 & \\cellcolor{blue!3.03}{-2.02} & \\cellcolor{blue!9.72}{-6.48} & \\cellcolor{red!24.66}{16.44} & \\cellcolor{red!0.92}{0.61} & \\cellcolor{red!41.46}{27.64} & \\cellcolor{red!33.80}{22.54} & \\cellcolor{red!12.53}{8.36} & \\cellcolor{red!22.65}{15.10} & \\cellcolor{red!18.53}{12.36} & \\cellcolor{red!19.86}{13.24} & \\cellcolor{red!29.76}{19.84} \\\\\n",
      "\\rowcolor{gray!10}\\textbf{llama2-13b} & 51.66 & \\cellcolor{blue!35.25}{-23.50} & \\cellcolor{red!7.39}{4.93} & \\cellcolor{red!24.80}{16.54} & \\cellcolor{red!15.79}{10.52} & \\cellcolor{red!17.60}{11.73} & \\cellcolor{red!12.52}{8.35} & \\cellcolor{red!16.98}{11.32} & \\cellcolor{red!18.16}{12.11} & \\cellcolor{red!18.19}{12.13} & \\cellcolor{red!18.61}{12.41} & \\cellcolor{red!12.93}{8.62} \\\\\n",
      "\\textbf{llama2-7b} & 52.77 & \\cellcolor{blue!16.75}{-11.17} & \\cellcolor{blue!7.32}{-4.88} & \\cellcolor{red!9.12}{6.08} & \\cellcolor{red!4.28}{2.85} & \\cellcolor{red!11.68}{7.78} & \\cellcolor{red!15.32}{10.22} & \\cellcolor{red!6.64}{4.43} & \\cellcolor{red!8.54}{5.69} & \\cellcolor{red!0.08}{0.05} & \\cellcolor{red!9.03}{6.02} & \\cellcolor{red!8.68}{5.79} \\\\\n",
      "\\rowcolor{gray!10}\\textbf{llama3-8b} & 37.66 & \\cellcolor{blue!2.55}{-1.70} & \\cellcolor{blue!27.37}{-18.25} & \\cellcolor{red!28.39}{18.93} & \\cellcolor{red!27.36}{18.24} & \\cellcolor{red!11.53}{7.69} & \\cellcolor{red!32.59}{21.73} & \\cellcolor{red!23.00}{15.33} & \\cellcolor{red!5.45}{3.63} & \\cellcolor{red!25.83}{17.22} & \\cellcolor{red!23.85}{15.90} & \\cellcolor{red!23.51}{15.67} \\\\\n",
      "\\textbf{mistral-7b} & 39.97 & \\cellcolor{blue!47.13}{-31.42} & \\cellcolor{blue!46.59}{-31.06} & \\cellcolor{blue!9.66}{-6.44} & \\cellcolor{blue!15.09}{-10.06} & \\cellcolor{blue!10.17}{-6.78} & \\cellcolor{blue!24.28}{-16.19} & \\cellcolor{blue!25.95}{-17.30} & \\cellcolor{blue!23.81}{-15.88} & \\cellcolor{blue!10.10}{-6.74} & \\cellcolor{blue!24.86}{-16.58} & \\cellcolor{blue!21.28}{-14.19} \\\\\n",
      "\\rowcolor{gray!10}\\textbf{solar-10.7b} & 35.45 & \\cellcolor{blue!12.23}{-8.16} & \\cellcolor{red!12.83}{8.56} & \\cellcolor{red!18.44}{12.29} & \\cellcolor{red!22.51}{15.01} & \\cellcolor{red!32.59}{21.72} & \\cellcolor{red!22.19}{14.79} & \\cellcolor{red!14.83}{9.89} & \\cellcolor{red!6.98}{4.65} & \\cellcolor{red!29.91}{19.94} & \\cellcolor{red!21.92}{14.61} & \\cellcolor{red!36.15}{24.10} \\\\\n",
      "\\midrule\n",
      "\\textbf{Average} & 43.89 & \\cellcolor{blue!23.87}{-15.91} & \\cellcolor{blue!7.26}{-4.84} & \\cellcolor{red!17.52}{11.68} & \\cellcolor{red!8.22}{5.48} & \\cellcolor{red!18.66}{12.44} & \\cellcolor{red!16.73}{11.15} & \\cellcolor{red!11.56}{7.71} & \\cellcolor{red!8.61}{5.74} & \\cellcolor{red!14.23}{9.49} & \\cellcolor{red!12.32}{8.21} & \\cellcolor{red!17.07}{11.38} \\\\\n"
     ]
    }
   ],
   "source": [
    "# Format the table\n",
    "for i in range(len(df_kendall_diff)):\n",
    "    # model names\n",
    "    model_name = df_kendall_diff.index[i]\n",
    "    if i %2 == 0:\n",
    "        line = [f'\\\\rowcolor{{gray!10}}\\\\textbf{{{model_name}}}']\n",
    "    else:\n",
    "        line = [f'\\\\textbf{{{model_name}}}' ]\n",
    "    # asqa scores\n",
    "    # temp 0.0\n",
    "    line.append(f\"{df_kendall.iloc[i, 0]*100:.2f}\")\n",
    "    # temp 0.3, 0.7, 1.0\n",
    "    for j in range(1, len(df_kendall_diff.columns)):\n",
    "        val = df_kendall_diff.iloc[i, j]\n",
    "        if val > 0:\n",
    "            line.append(f\"\\cellcolor{{red!{abs((val /0.4))*60:.2f}}}{{{val*100:.2f}}}\")\n",
    "        elif val < 0 :\n",
    "            line.append(f\"\\cellcolor{{blue!{abs(val / 0.4)*60:.2f}}}{{{val*100:.2f}}}\")\n",
    "        elif val == 0:\n",
    "            line.append(f\"{{{val:.2f}}}\")\n",
    "    print(' & '.join(line),'\\\\\\\\')\n",
    "print('\\midrule')\n",
    "line = [f'\\\\textbf{{Average}}']\n",
    "line.append(f\"{avg[0]*100:.2f}\")\n",
    "for i in range(1, len(avg_diff)):\n",
    "    val = avg_diff[i]\n",
    "    if val > 0:\n",
    "        line.append(f\"\\cellcolor{{red!{abs((val /0.4))*60:.2f}}}{{{val*100:.2f}}}\")\n",
    "    elif val < 0 :\n",
    "        line.append(f\"\\cellcolor{{blue!{abs(val / 0.4)*60:.2f}}}{{{val*100:.2f}}}\")\n",
    "    elif val == 0:\n",
    "        line.append(f\"{{{val:.2f}}}\")\n",
    "print(' & '.join(line),'\\\\\\\\')"
   ]
  },
  {
   "cell_type": "code",
   "execution_count": 86,
   "metadata": {},
   "outputs": [
    {
     "data": {
      "image/png": "[encoded data removed]",
      "text/plain": [
       "<Figure size 640x480 with 1 Axes>"
      ]
     },
     "metadata": {},
     "output_type": "display_data"
    }
   ],
   "source": [
    "import matplotlib.pyplot as plt\n",
    "\n",
    "# 绘制条形图\n",
    "df[['Human', 'GPT-4o Fine-grained', 'GPT-4o', 'Claude-3.5', 'Gemini-2.0', 'p1_ref_gpt-4o', 'p2_ref_gpt-4o', 'p3_ref_gpt-4o', 'p4_ref_gpt-4o', 'p5_ref_gpt-4o', 'p6_ref_gpt-4o', 'p7_ref_gpt-4o', 'p8_ref_gpt-4o', 'p9_ref_gpt-4o']].corr('spearman')['Human'].plot(kind='bar')\n",
    "plt.title('Kendall Correlation with Human Scores')\n",
    "plt.axhline(y=df[['Human', 'GPT-4o Fine-grained', 'GPT-4o', 'Claude-3.5', 'Gemini-2.0', 'p1_ref_gpt-4o', 'p2_ref_gpt-4o', 'p3_ref_gpt-4o', 'p4_ref_gpt-4o', 'p5_ref_gpt-4o', 'p6_ref_gpt-4o', 'p7_ref_gpt-4o', 'p8_ref_gpt-4o', 'p9_ref_gpt-4o']].corr('spearman')['Human'].mean(), color='r', linestyle='--', label='Average Score')\n",
    "for i, v in enumerate(df[['Human', 'GPT-4o Fine-grained', 'GPT-4o', 'Claude-3.5', 'Gemini-2.0', 'p1_ref_gpt-4o', 'p2_ref_gpt-4o', 'p3_ref_gpt-4o', 'p4_ref_gpt-4o', 'p5_ref_gpt-4o', 'p6_ref_gpt-4o', 'p7_ref_gpt-4o', 'p8_ref_gpt-4o', 'p9_ref_gpt-4o']].corr('spearman')['Human']):\n",
    "    plt.text(i, v, f\"{v:.2f}\", ha='center', va='bottom')\n",
    "plt.ylabel('Kendall Correlation')\n",
    "plt.xlabel('Models and Prompts')\n",
    "plt.show()\n"
   ]
  },
  {
   "cell_type": "code",
   "execution_count": 85,
   "metadata": {},
   "outputs": [
    {
     "data": {
      "image/png": "[encoded data removed]",
      "text/plain": [
       "<Figure size 640x480 with 1 Axes>"
      ]
     },
     "metadata": {},
     "output_type": "display_data"
    }
   ],
   "source": [
    "import matplotlib.pyplot as plt\n",
    "\n",
    "# 绘制条形图\n",
    "df[['Human', 'GPT-4o Fine-grained', 'GPT-4o', 'Claude-3.5', 'Gemini-2.0', 'p1_ref_gpt-4o', 'p2_ref_gpt-4o', 'p3_ref_gpt-4o', 'p4_ref_gpt-4o', 'p5_ref_gpt-4o', 'p6_ref_gpt-4o', 'p7_ref_gpt-4o', 'p8_ref_gpt-4o', 'p9_ref_gpt-4o']].corr('kendall')['Human'].plot(kind='bar')\n",
    "plt.title('Kendall Correlation with Human Scores')\n",
    "plt.axhline(y=df[['Human', 'GPT-4o Fine-grained', 'GPT-4o', 'Claude-3.5', 'Gemini-2.0', 'p1_ref_gpt-4o', 'p2_ref_gpt-4o', 'p3_ref_gpt-4o', 'p4_ref_gpt-4o', 'p5_ref_gpt-4o', 'p6_ref_gpt-4o', 'p7_ref_gpt-4o', 'p8_ref_gpt-4o', 'p9_ref_gpt-4o']].corr('kendall')['Human'].mean(), color='r', linestyle='--', label='Average Score')\n",
    "for i, v in enumerate(df[['Human', 'GPT-4o Fine-grained', 'GPT-4o', 'Claude-3.5', 'Gemini-2.0', 'p1_ref_gpt-4o', 'p2_ref_gpt-4o', 'p3_ref_gpt-4o', 'p4_ref_gpt-4o', 'p5_ref_gpt-4o', 'p6_ref_gpt-4o', 'p7_ref_gpt-4o', 'p8_ref_gpt-4o', 'p9_ref_gpt-4o']].corr('kendall')['Human']):\n",
    "    plt.text(i, v, f\"{v:.2f}\", ha='center', va='bottom')\n",
    "plt.ylabel('Kendall Correlation')\n",
    "plt.xlabel('Models and Prompts')\n",
    "plt.show()\n"
   ]
  },
  {
   "cell_type": "code",
   "execution_count": null,
   "metadata": {},
   "outputs": [],
   "source": [
    "df"
   ]
  },
  {
   "cell_type": "code",
   "execution_count": 74,
   "metadata": {},
   "outputs": [
    {
     "data": {
      "text/plain": [
       "Human                  1.000000\n",
       "GPT-4o Fine-grained    0.431107\n",
       "GPT-4o                 0.438889\n",
       "Claude-3.5             0.279742\n",
       "Gemini-2.0             0.390517\n",
       "p1_ref_gpt-4o_acc      0.450588\n",
       "p1_ref_gpt-4o_inf      0.556933\n",
       "p1_ref_gpt-4o          0.555668\n",
       "p2_ref_gpt-4o_acc      0.468796\n",
       "p2_ref_gpt-4o_inf      0.426981\n",
       "p2_ref_gpt-4o          0.493713\n",
       "p3_ref_gpt-4o_acc      0.434888\n",
       "p3_ref_gpt-4o_inf      0.579634\n",
       "p3_ref_gpt-4o          0.563257\n",
       "p4_ref_gpt-4o_acc      0.464709\n",
       "p4_ref_gpt-4o_inf      0.553778\n",
       "p4_ref_gpt-4o          0.550410\n",
       "p5_ref_gpt-4o_acc      0.446279\n",
       "p5_ref_gpt-4o_inf      0.514216\n",
       "p5_ref_gpt-4o          0.515954\n",
       "p6_ref_gpt-4o_acc      0.387250\n",
       "p6_ref_gpt-4o_inf      0.524473\n",
       "p6_ref_gpt-4o          0.496271\n",
       "p7_ref_gpt-4o_acc      0.436862\n",
       "p7_ref_gpt-4o_inf      0.524314\n",
       "p7_ref_gpt-4o          0.533789\n",
       "p8_ref_gpt-4o_acc      0.427491\n",
       "p8_ref_gpt-4o_inf      0.515107\n",
       "p8_ref_gpt-4o          0.521003\n",
       "p9_ref_gpt-4o_acc      0.473684\n",
       "p9_ref_gpt-4o_inf      0.551267\n",
       "p9_ref_gpt-4o          0.552693\n",
       "Name: Human, dtype: float64"
      ]
     },
     "execution_count": 74,
     "metadata": {},
     "output_type": "execute_result"
    }
   ],
   "source": [
    "df[[ 'Human', 'GPT-4o Fine-grained', 'GPT-4o', 'Claude-3.5', 'Gemini-2.0','p1_ref_gpt-4o_acc', 'p1_ref_gpt-4o_inf', 'p1_ref_gpt-4o','p2_ref_gpt-4o_acc', 'p2_ref_gpt-4o_inf', 'p2_ref_gpt-4o', 'p3_ref_gpt-4o_acc', 'p3_ref_gpt-4o_inf', 'p3_ref_gpt-4o',  'p4_ref_gpt-4o_acc', 'p4_ref_gpt-4o_inf', 'p4_ref_gpt-4o', 'p5_ref_gpt-4o_acc', 'p5_ref_gpt-4o_inf', 'p5_ref_gpt-4o', 'p6_ref_gpt-4o_acc', 'p6_ref_gpt-4o_inf', 'p6_ref_gpt-4o', 'p7_ref_gpt-4o_acc', 'p7_ref_gpt-4o_inf', 'p7_ref_gpt-4o', 'p8_ref_gpt-4o_acc', 'p8_ref_gpt-4o_inf', 'p8_ref_gpt-4o', 'p9_ref_gpt-4o_acc', 'p9_ref_gpt-4o_inf', 'p9_ref_gpt-4o']].corr('kendall')['Human']"
   ]
  },
  {
   "cell_type": "code",
   "execution_count": 164,
   "metadata": {},
   "outputs": [],
   "source": [
    "df.to_json(f'../data/enhance/wikieval.json', orient='records', lines=True)"
   ]
  },
  {
   "cell_type": "code",
   "execution_count": 25,
   "metadata": {},
   "outputs": [
    {
     "data": {
      "text/html": [
       "<div>\n",
       "<style scoped>\n",
       "    .dataframe tbody tr th:only-of-type {\n",
       "        vertical-align: middle;\n",
       "    }\n",
       "\n",
       "    .dataframe tbody tr th {\n",
       "        vertical-align: top;\n",
       "    }\n",
       "\n",
       "    .dataframe thead th {\n",
       "        text-align: right;\n",
       "    }\n",
       "</style>\n",
       "<table border=\"1\" class=\"dataframe\">\n",
       "  <thead>\n",
       "    <tr style=\"text-align: right;\">\n",
       "      <th></th>\n",
       "      <th>Human</th>\n",
       "      <th>gpt-4o short</th>\n",
       "      <th>claude-3.5 short</th>\n",
       "      <th>gemini-2.0 short</th>\n",
       "    </tr>\n",
       "  </thead>\n",
       "  <tbody>\n",
       "    <tr>\n",
       "      <th>Human</th>\n",
       "      <td>1.000000</td>\n",
       "      <td>0.456888</td>\n",
       "      <td>0.126869</td>\n",
       "      <td>0.371571</td>\n",
       "    </tr>\n",
       "    <tr>\n",
       "      <th>gpt-4o short</th>\n",
       "      <td>0.456888</td>\n",
       "      <td>1.000000</td>\n",
       "      <td>0.058805</td>\n",
       "      <td>0.348244</td>\n",
       "    </tr>\n",
       "    <tr>\n",
       "      <th>claude-3.5 short</th>\n",
       "      <td>0.126869</td>\n",
       "      <td>0.058805</td>\n",
       "      <td>1.000000</td>\n",
       "      <td>-0.011171</td>\n",
       "    </tr>\n",
       "    <tr>\n",
       "      <th>gemini-2.0 short</th>\n",
       "      <td>0.371571</td>\n",
       "      <td>0.348244</td>\n",
       "      <td>-0.011171</td>\n",
       "      <td>1.000000</td>\n",
       "    </tr>\n",
       "  </tbody>\n",
       "</table>\n",
       "</div>"
      ],
      "text/plain": [
       "                     Human  gpt-4o short  claude-3.5 short  gemini-2.0 short\n",
       "Human             1.000000      0.456888          0.126869          0.371571\n",
       "gpt-4o short      0.456888      1.000000          0.058805          0.348244\n",
       "claude-3.5 short  0.126869      0.058805          1.000000         -0.011171\n",
       "gemini-2.0 short  0.371571      0.348244         -0.011171          1.000000"
      ]
     },
     "execution_count": 25,
     "metadata": {},
     "output_type": "execute_result"
    }
   ],
   "source": [
    "df[[ 'Human', 'gpt-4o short ref', 'claude-3.5 short ref', 'gemini-2.0 short ref',]].corr('kendall')"
   ]
  },
  {
   "cell_type": "code",
   "execution_count": 18,
   "metadata": {},
   "outputs": [
    {
     "data": {
      "text/html": [
       "<div>\n",
       "<style scoped>\n",
       "    .dataframe tbody tr th:only-of-type {\n",
       "        vertical-align: middle;\n",
       "    }\n",
       "\n",
       "    .dataframe tbody tr th {\n",
       "        vertical-align: top;\n",
       "    }\n",
       "\n",
       "    .dataframe thead th {\n",
       "        text-align: right;\n",
       "    }\n",
       "</style>\n",
       "<table border=\"1\" class=\"dataframe\">\n",
       "  <thead>\n",
       "    <tr style=\"text-align: right;\">\n",
       "      <th></th>\n",
       "      <th>short_score</th>\n",
       "      <th>short_claude-3-5-sonnet-20241022_score</th>\n",
       "      <th>short_gemini-2.0-flash-exp_score</th>\n",
       "      <th>Human</th>\n",
       "    </tr>\n",
       "  </thead>\n",
       "  <tbody>\n",
       "    <tr>\n",
       "      <th>short_score</th>\n",
       "      <td>1.000000</td>\n",
       "      <td>0.072585</td>\n",
       "      <td>0.378692</td>\n",
       "      <td>0.518712</td>\n",
       "    </tr>\n",
       "    <tr>\n",
       "      <th>short_claude-3-5-sonnet-20241022_score</th>\n",
       "      <td>0.072585</td>\n",
       "      <td>1.000000</td>\n",
       "      <td>-0.014624</td>\n",
       "      <td>0.155643</td>\n",
       "    </tr>\n",
       "    <tr>\n",
       "      <th>short_gemini-2.0-flash-exp_score</th>\n",
       "      <td>0.378692</td>\n",
       "      <td>-0.014624</td>\n",
       "      <td>1.000000</td>\n",
       "      <td>0.410101</td>\n",
       "    </tr>\n",
       "    <tr>\n",
       "      <th>Human</th>\n",
       "      <td>0.518712</td>\n",
       "      <td>0.155643</td>\n",
       "      <td>0.410101</td>\n",
       "      <td>1.000000</td>\n",
       "    </tr>\n",
       "  </tbody>\n",
       "</table>\n",
       "</div>"
      ],
      "text/plain": [
       "                                        short_score  \\\n",
       "short_score                                1.000000   \n",
       "short_claude-3-5-sonnet-20241022_score     0.072585   \n",
       "short_gemini-2.0-flash-exp_score           0.378692   \n",
       "Human                                      0.518712   \n",
       "\n",
       "                                        short_claude-3-5-sonnet-20241022_score  \\\n",
       "short_score                                                           0.072585   \n",
       "short_claude-3-5-sonnet-20241022_score                                1.000000   \n",
       "short_gemini-2.0-flash-exp_score                                     -0.014624   \n",
       "Human                                                                 0.155643   \n",
       "\n",
       "                                        short_gemini-2.0-flash-exp_score  \\\n",
       "short_score                                                     0.378692   \n",
       "short_claude-3-5-sonnet-20241022_score                         -0.014624   \n",
       "short_gemini-2.0-flash-exp_score                                1.000000   \n",
       "Human                                                           0.410101   \n",
       "\n",
       "                                           Human  \n",
       "short_score                             0.518712  \n",
       "short_claude-3-5-sonnet-20241022_score  0.155643  \n",
       "short_gemini-2.0-flash-exp_score        0.410101  \n",
       "Human                                   1.000000  "
      ]
     },
     "execution_count": 18,
     "metadata": {},
     "output_type": "execute_result"
    }
   ],
   "source": [
    "df[['short_score', 'short_claude-3-5-sonnet-20241022_score', 'short_gemini-2.0-flash-exp_score', 'Human']].corr('spearman')"
   ]
  },
  {
   "cell_type": "code",
   "execution_count": 21,
   "metadata": {},
   "outputs": [
    {
     "data": {
      "text/html": [
       "<div>\n",
       "<style scoped>\n",
       "    .dataframe tbody tr th:only-of-type {\n",
       "        vertical-align: middle;\n",
       "    }\n",
       "\n",
       "    .dataframe tbody tr th {\n",
       "        vertical-align: top;\n",
       "    }\n",
       "\n",
       "    .dataframe thead th {\n",
       "        text-align: right;\n",
       "    }\n",
       "</style>\n",
       "<table border=\"1\" class=\"dataframe\">\n",
       "  <thead>\n",
       "    <tr style=\"text-align: right;\">\n",
       "      <th></th>\n",
       "      <th>Human</th>\n",
       "      <th>Claude-3.5</th>\n",
       "      <th>Gemini-2.0</th>\n",
       "      <th>GPT-4o</th>\n",
       "      <th>GPT-4o Fine-grained</th>\n",
       "    </tr>\n",
       "  </thead>\n",
       "  <tbody>\n",
       "    <tr>\n",
       "      <th>Human</th>\n",
       "      <td>1.000000</td>\n",
       "      <td>0.279742</td>\n",
       "      <td>0.390517</td>\n",
       "      <td>0.438889</td>\n",
       "      <td>0.431107</td>\n",
       "    </tr>\n",
       "    <tr>\n",
       "      <th>Claude-3.5</th>\n",
       "      <td>0.279742</td>\n",
       "      <td>1.000000</td>\n",
       "      <td>0.201393</td>\n",
       "      <td>0.544142</td>\n",
       "      <td>0.487806</td>\n",
       "    </tr>\n",
       "    <tr>\n",
       "      <th>Gemini-2.0</th>\n",
       "      <td>0.390517</td>\n",
       "      <td>0.201393</td>\n",
       "      <td>1.000000</td>\n",
       "      <td>0.414870</td>\n",
       "      <td>0.357246</td>\n",
       "    </tr>\n",
       "    <tr>\n",
       "      <th>GPT-4o</th>\n",
       "      <td>0.438889</td>\n",
       "      <td>0.544142</td>\n",
       "      <td>0.414870</td>\n",
       "      <td>1.000000</td>\n",
       "      <td>0.618806</td>\n",
       "    </tr>\n",
       "    <tr>\n",
       "      <th>GPT-4o Fine-grained</th>\n",
       "      <td>0.431107</td>\n",
       "      <td>0.487806</td>\n",
       "      <td>0.357246</td>\n",
       "      <td>0.618806</td>\n",
       "      <td>1.000000</td>\n",
       "    </tr>\n",
       "  </tbody>\n",
       "</table>\n",
       "</div>"
      ],
      "text/plain": [
       "                        Human  Claude-3.5  Gemini-2.0    GPT-4o  \\\n",
       "Human                1.000000    0.279742    0.390517  0.438889   \n",
       "Claude-3.5           0.279742    1.000000    0.201393  0.544142   \n",
       "Gemini-2.0           0.390517    0.201393    1.000000  0.414870   \n",
       "GPT-4o               0.438889    0.544142    0.414870  1.000000   \n",
       "GPT-4o Fine-grained  0.431107    0.487806    0.357246  0.618806   \n",
       "\n",
       "                     GPT-4o Fine-grained  \n",
       "Human                           0.431107  \n",
       "Claude-3.5                      0.487806  \n",
       "Gemini-2.0                      0.357246  \n",
       "GPT-4o                          0.618806  \n",
       "GPT-4o Fine-grained             1.000000  "
      ]
     },
     "execution_count": 21,
     "metadata": {},
     "output_type": "execute_result"
    }
   ],
   "source": [
    "df[['Human', 'Claude-3.5', 'Gemini-2.0', 'GPT-4o', 'GPT-4o Fine-grained']].corr('kendall')"
   ]
  },
  {
   "cell_type": "code",
   "execution_count": 22,
   "metadata": {},
   "outputs": [
    {
     "data": {
      "text/html": [
       "<div>\n",
       "<style scoped>\n",
       "    .dataframe tbody tr th:only-of-type {\n",
       "        vertical-align: middle;\n",
       "    }\n",
       "\n",
       "    .dataframe tbody tr th {\n",
       "        vertical-align: top;\n",
       "    }\n",
       "\n",
       "    .dataframe thead th {\n",
       "        text-align: right;\n",
       "    }\n",
       "</style>\n",
       "<table border=\"1\" class=\"dataframe\">\n",
       "  <thead>\n",
       "    <tr style=\"text-align: right;\">\n",
       "      <th></th>\n",
       "      <th>Human</th>\n",
       "      <th>Claude-3.5</th>\n",
       "      <th>Gemini-2.0</th>\n",
       "      <th>GPT-4o</th>\n",
       "      <th>GPT-4o Fine-grained</th>\n",
       "    </tr>\n",
       "  </thead>\n",
       "  <tbody>\n",
       "    <tr>\n",
       "      <th>Human</th>\n",
       "      <td>1.000000</td>\n",
       "      <td>0.331051</td>\n",
       "      <td>0.442342</td>\n",
       "      <td>0.513881</td>\n",
       "      <td>0.489855</td>\n",
       "    </tr>\n",
       "    <tr>\n",
       "      <th>Claude-3.5</th>\n",
       "      <td>0.331051</td>\n",
       "      <td>1.000000</td>\n",
       "      <td>0.233424</td>\n",
       "      <td>0.639333</td>\n",
       "      <td>0.566608</td>\n",
       "    </tr>\n",
       "    <tr>\n",
       "      <th>Gemini-2.0</th>\n",
       "      <td>0.442342</td>\n",
       "      <td>0.233424</td>\n",
       "      <td>1.000000</td>\n",
       "      <td>0.477487</td>\n",
       "      <td>0.401275</td>\n",
       "    </tr>\n",
       "    <tr>\n",
       "      <th>GPT-4o</th>\n",
       "      <td>0.513881</td>\n",
       "      <td>0.639333</td>\n",
       "      <td>0.477487</td>\n",
       "      <td>1.000000</td>\n",
       "      <td>0.706005</td>\n",
       "    </tr>\n",
       "    <tr>\n",
       "      <th>GPT-4o Fine-grained</th>\n",
       "      <td>0.489855</td>\n",
       "      <td>0.566608</td>\n",
       "      <td>0.401275</td>\n",
       "      <td>0.706005</td>\n",
       "      <td>1.000000</td>\n",
       "    </tr>\n",
       "  </tbody>\n",
       "</table>\n",
       "</div>"
      ],
      "text/plain": [
       "                        Human  Claude-3.5  Gemini-2.0    GPT-4o  \\\n",
       "Human                1.000000    0.331051    0.442342  0.513881   \n",
       "Claude-3.5           0.331051    1.000000    0.233424  0.639333   \n",
       "Gemini-2.0           0.442342    0.233424    1.000000  0.477487   \n",
       "GPT-4o               0.513881    0.639333    0.477487  1.000000   \n",
       "GPT-4o Fine-grained  0.489855    0.566608    0.401275  0.706005   \n",
       "\n",
       "                     GPT-4o Fine-grained  \n",
       "Human                           0.489855  \n",
       "Claude-3.5                      0.566608  \n",
       "Gemini-2.0                      0.401275  \n",
       "GPT-4o                          0.706005  \n",
       "GPT-4o Fine-grained             1.000000  "
      ]
     },
     "execution_count": 22,
     "metadata": {},
     "output_type": "execute_result"
    }
   ],
   "source": [
    "df[['Human', 'Claude-3.5', 'Gemini-2.0', 'GPT-4o', 'GPT-4o Fine-grained']].corr('spearman')"
   ]
  },
  {
   "cell_type": "code",
   "execution_count": 11,
   "metadata": {},
   "outputs": [
    {
     "data": {
      "text/plain": [
       "48.98549784761374"
      ]
     },
     "execution_count": 11,
     "metadata": {},
     "output_type": "execute_result"
    }
   ],
   "source": [
    "calculate_correlation(df['GPT-4o Fine-grained'], df['Human'])\n"
   ]
  }
 ],
 "metadata": {
  "kernelspec": {
   "display_name": "rag",
   "language": "python",
   "name": "python3"
  },
  "language_info": {
   "codemirror_mode": {
    "name": "ipython",
    "version": 3
   },
   "file_extension": ".py",
   "mimetype": "text/x-python",
   "name": "python",
   "nbconvert_exporter": "python",
   "pygments_lexer": "ipython3",
   "version": "3.10.15"
  }
 },
 "nbformat": 4,
 "nbformat_minor": 2
}
