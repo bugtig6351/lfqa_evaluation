{
 "cells": [
  {
   "cell_type": "code",
   "execution_count": 1,
   "metadata": {},
   "outputs": [
    {
     "name": "stderr",
     "output_type": "stream",
     "text": [
      "c:\\Users\\1\\anaconda3\\envs\\rag\\lib\\site-packages\\tqdm\\auto.py:21: TqdmWarning: IProgress not found. Please update jupyter and ipywidgets. See https://ipywidgets.readthedocs.io/en/stable/user_install.html\n",
      "  from .autonotebook import tqdm as notebook_tqdm\n"
     ]
    }
   ],
   "source": [
    "import pandas as pd\n",
    "import numpy as np\n",
    "import os\n",
    "import json \n",
    "import sys\n",
    "from typing import Dict, Tuple, Any, Optional, List\n",
    "sys.path.append('..')\n",
    "import time\n",
    "from src.utils import load_data\n",
    "from src.models import results_to_dict, get_score_and_re_eval, evaluate"
   ]
  },
  {
   "cell_type": "code",
   "execution_count": 4,
   "metadata": {},
   "outputs": [],
   "source": [
    "sys.path.append(r'C:\\Users\\1\\Documents\\GitHub\\rageval')\n",
    "from rageval.models import OpenAILLM"
   ]
  },
  {
   "cell_type": "markdown",
   "metadata": {},
   "source": [
    "## human annotation"
   ]
  },
  {
   "cell_type": "code",
   "execution_count": 2,
   "metadata": {},
   "outputs": [],
   "source": [
    "with open('../data/wikieval/human.json', 'r') as f:\n",
    "    data = json.load(f)"
   ]
  },
  {
   "cell_type": "code",
   "execution_count": 4,
   "metadata": {},
   "outputs": [
    {
     "data": {
      "text/plain": [
       "{'context': 'Starship is a super heavy-lift launch vehicle under development by SpaceX. At 120 metres (394 feet) in height and with a liftoff mass of 5,000 metric tons (11,000,000 pounds), Starship is the largest and most powerful rocket ever flown, surpassing the thrust of NASA\\'s Space Launch System and Saturn V, as well as the Soviet N1, which had previously held the record.The two-stage-to-orbit launch vehicle consists of the first-stage Super Heavy booster and the second-stage spacecraft also named Starship. Both stages are powered by Raptor rocket engines, which burn liquid methane and liquid oxygen, operating in a full-flow staged combustion power cycle. Both are designed to be fully reusable, performing controlled landings on the arms of the launch tower used to lift the vehicles and, eventually, reflown within hours. Starship is designed to have a payload capacity of 150 tonnes (330,000 lb) to low Earth orbit in a fully reusable configuration and 250 t (550,000 lb) when expended. Starship vehicles in low Earth orbit are planned to be refilled with propellant launched in tanker Starships to enable transit to higher energy destinations such as geosynchronous orbit, the Moon, and Mars.Plans for a heavy-lift vehicle at SpaceX date to 2005, with the earliest concept resembling the modern vehicle announced in 2016. SpaceX\\'s Starship development follows an iterative and incremental approach involving frequent, and often destructive, test flights of prototype vehicles. The first and so far only orbital test flight was attempted on 20 April 2023, when an anomaly caused the vehicle to tumble out of control four minutes after launch. SpaceX activated the flight termination system, which fired the explosive charges but did not destroy the vehicle. Approximately 40 seconds later both stages were destroyed due to increased aerodynamic forces.  After the test, the Federal Aviation Administration (FAA) grounded the launch program pending results of a standard \"mishap investigation\".SpaceX intends Starship to become its primary launch vehicle, superseding the Falcon 9 and Falcon Heavy launch vehicles as well as the Dragon 2 spacecraft currently used as part of NASA\\'s commercial crew program to the International Space Station. Starship is often coupled with the company\\'s Mars ambitions. Planned Starship flights include the development of SpaceX\\'s Starlink internet constellation, crewed flights under the Polaris and dearMoon programs, and two crewed lunar landings with a modified Starship spacecraft under the Artemis program.\\n\\nHistory\\nStarting with a 2012 announcement of plans to develop a rocket with substantially greater capabilities than SpaceX\\'s existing Falcon 9—underpinned by the ambition to enable human exploration and settlement of Mars—the company created a succession of preliminary designs for such a vehicle, under various names (Mars Colonial Transporter, Interplanetary Transport System, BFR) leading up to a 2019 adoption of a stainless-steel body design, which is also when the name changed to the current Starship. SpaceX has since been applying the iterative design methodology, using intensive tests on a series of rocket prototypes. The first prototype, Starhopper, performed several static fires and low-altitude flights. Seven of Starship\\'s upper-stage prototypes were flight tested between August 2020 and May 2021. The last of the seven, a full-size Starship SN15, successfully landed after reaching an altitude of 10 kilometers (6.2 mi). A full-scale orbital test flight of the rocket took place on April 20, 2023.\\n\\nEarly design proposals\\nIn 2007, Elon Musk publicly stated that he hopes to enable the exploration and settlement of Mars through SpaceX. SpaceX began developing the Raptor rocket engine before 2014. From 2011 to 2014, Musk made various statements expressing his hope that SpaceX would send humans to Mars in the 2020s to 2030s.\\n\\nMars Colonial Transporter\\nIn October 2012, Musk made the first public articulation of plans to develop a fully reusable rocket system with substantially greater capabilities than SpaceX\\'s existing Falcon 9. This new launch vehicle was intended to be part of the company\\'s Mars system architecture, then known as the Mars Colonial Transporter/Mass Cargo Transport (MCT). According to SpaceX, the MCT system would include reusable rocket engines, launch vehicles and space capsules that would enable transportation of humans to Mars and back to Earth. SpaceX COO Gwynne Shotwell gave a potential payload range between 150-200 tonnes to low Earth orbit for the planned rocket. According to SpaceX, the MCT was to be \"going to be much bigger [than Falcon 9]\". In February 2014, the planned principal payload for the MCT was announced to be a large interplanetary spacecraft, designed to carry up to 100 tonnes (220,000 lb) of passengers and cargo. According to SpaceX engine development head Tom Mueller, SpaceX could use nine Raptor engines on a single spacecraft. The preliminary rocket design was to be at least 10 meters (33 ft) in diameter and was expected to have up to three cores totaling at least 27 booster engines.\\n\\nInterplanetary Transport System\\nIn 2016, Musk changed the name of the Mars Colonial Transporter system to the Interplanetary Transport System  (ITS), as he intended for the system to be capable of traveling beyond Mars. That same year he provided more details about the space mission architecture, launch vehicle, spacecraft, and Raptor engines. The ITS stack was to be composed of two stages, both powered by Raptor engines. A first stage booster, and a second stage that was to be either an \"Interplanetary Spaceship\" for crewed transport or an \"ITS tanker\" for orbital refueling. By that point, Raptor was a rocket engine in a full flow staged combustion cycle, with liquid methane fuel and liquid oxygen oxidizer. Both propellants enter the combustion chamber completely in the gas phase. A bleed-off of the high-pressure gas would provide autogenous pressurization of the propellant tanks, eliminating the Falcon 9\\'s problematic high-pressure helium pressurization system.The overall launch vehicle height, (first and second stages), was to be 122 m (400 ft). Both stages were to have been constructed of carbon fiber, including the cryogenic propellant tanks, a major change for SpaceX from the Falcon 9\\'s aluminum-lithium alloy tank and structure material. Both stages were to be fully reusable and were to land vertically. The ITS booster was to be a 12 m-diameter (39 ft), 77.5 m-high (254 ft), reusable first stage powered by 42 engines, each producing 3,024 kilonewtons (680,000 lbf) of thrust. Total booster thrust would have been about 128 MN (29,000,000 lbf) at liftoff, several times the 36 MN (8,000,000 lbf) thrust of the Saturn V. The engine configuration included 21 engines in an outer ring and 14 in an inner ring. The center cluster of seven engines was to be gimbaled for directional control, although some directional control  was to be performed via differential thrust on the fixed engines. ',\n",
       " 'question': 'How does the height and thrust of the Starship rocket compare to other rockets?',\n",
       " 'answer': \"Starship is significantly taller and more powerful than other rockets, including NASA's Space Launch System and Saturn V, and the Soviet N1. At 120 meters (394 feet) in height and with a liftoff mass of 5,000 metric tons (11,000,000 pounds), Starship is the largest and most powerful rocket ever flown. It has a payload capacity of 150 tonnes (330,000 lb) to low Earth orbit in a fully reusable configuration and 250 t (550,000 lb) when expended. Starship vehicles in low Earth orbit are planned to be refilled with propellant launched in tanker Starships to enable transit to higher energy destinations such as geosynchronous orbit, the Moon, and Mars.\",\n",
       " 'gt_answer': \"The Starship rocket has a height of 120 meters (394 feet), making it the largest and most powerful rocket ever flown. It surpasses the thrust of NASA's Space Launch System, Saturn V, and the Soviet N1, which previously held the record. The Starship rocket has a liftoff mass of 5,000 metric tons (11,000,000 pounds) and is powered by Raptor rocket engines, which burn liquid methane and liquid oxygen. It operates in a full-flow staged combustion power cycle. The rocket is designed to be fully reusable, with both the first-stage Super Heavy booster and the second-stage spacecraft, also named Starship, performing controlled landings. The Starship rocket has a payload capacity of 150 tonnes (330,000 lb) to low Earth orbit in a fully reusable configuration and 250 t (550,000 lb) when expended. It is also designed to enable transit to higher energy destinations such as geosynchronous orbit, the Moon, and Mars by refilling with propellant launched in tanker Starships. The Starship rocket represents SpaceX's ambition to become its primary launch vehicle, superseding the Falcon 9 and Falcon Heavy launch vehicles. It is a key component of SpaceX's plans for Mars exploration and settlement, as well as other missions such as the Starlink internet constellation and crewed lunar landings under the Artemis program.\",\n",
       " 'model': 'llama2-7b',\n",
       " 'gpt': 'Accuracy: 4, Informativeness: 4',\n",
       " 'reason': 'The assistant\\'s answer provides detailed information on both the height and the thrust capabilities of the Starship rocket. It correctly states that the Starship is 120 meters in height and offers comparative analysis with other notable rockets like NASA\\'s Space Launch System, Saturn V, and the Soviet N1. The figures provided regarding the liftoff mass and payload capacity of the Starship are also in line with publicly available information. While it provides a fairly comprehensive comparison, it could be improved by providing explicit thrust comparisons rather than focusing solely on height and payload capacity. Overall, the answer is accurate and informative with only minor room for improvement.\\n\\n[[SCORE]] {\"accuracy\": 4, \"informativeness\": 4}'}"
      ]
     },
     "execution_count": 4,
     "metadata": {},
     "output_type": "execute_result"
    }
   ],
   "source": [
    "data[0]['data']"
   ]
  },
  {
   "cell_type": "code",
   "execution_count": 10,
   "metadata": {},
   "outputs": [],
   "source": [
    "def annotation_result_to_dict(data: List[Dict[str, Any]]) -> Dict[str, Any]:\n",
    "    result = {}\n",
    "    for d in data:\n",
    "        if d['to_name'] == 'accuracy_text':\n",
    "            result['Human Accuracy'] = int(d['value']['choices'][0])\n",
    "        if d['to_name'] == 'informativeness_text':\n",
    "            result['Human Informativeness'] = int(d['value']['choices'][0])\n",
    "    return result\n",
    "\n",
    "def get_human_scores(data: List[Dict[str, Any]]) -> List[Dict[str, Any]]:\n",
    "    results = []\n",
    "    for d in data:\n",
    "        result = d['data']\n",
    "        result.update(annotation_result_to_dict(d['annotations'][0]['result']))\n",
    "        results.append(result)\n",
    "    return results"
   ]
  },
  {
   "cell_type": "code",
   "execution_count": 9,
   "metadata": {},
   "outputs": [
    {
     "data": {
      "text/plain": [
       "{'Human Accuracy': 5, 'Human Informativeness': 4}"
      ]
     },
     "execution_count": 9,
     "metadata": {},
     "output_type": "execute_result"
    }
   ],
   "source": [
    "annotation_result_to_dict(data[0]['annotations'][0]['result'])"
   ]
  },
  {
   "cell_type": "code",
   "execution_count": 12,
   "metadata": {},
   "outputs": [],
   "source": [
    "dfh = pd.DataFrame(get_human_scores(data))"
   ]
  },
  {
   "cell_type": "code",
   "execution_count": null,
   "metadata": {},
   "outputs": [],
   "source": [
    "df = load_data('../data/wikieval/3_evaluators.json')"
   ]
  },
  {
   "cell_type": "code",
   "execution_count": 25,
   "metadata": {},
   "outputs": [],
   "source": [
    "df_filtered = df[(df['model'] != 'gpt-4o') & (df['model'] != 'claude-3.5') & (df['model'] != 'gemini-2.0')]\n",
    "df_filtered = df_filtered.sort_values(['question', 'model'])"
   ]
  },
  {
   "cell_type": "code",
   "execution_count": 26,
   "metadata": {},
   "outputs": [],
   "source": [
    "dfh = dfh.sort_values(['question', 'model'])"
   ]
  },
  {
   "cell_type": "code",
   "execution_count": 28,
   "metadata": {},
   "outputs": [
    {
     "data": {
      "text/plain": [
       "True"
      ]
     },
     "execution_count": 28,
     "metadata": {},
     "output_type": "execute_result"
    }
   ],
   "source": [
    "all(dfh['answer'].values == df_filtered['answer'].values)"
   ]
  },
  {
   "cell_type": "code",
   "execution_count": 29,
   "metadata": {},
   "outputs": [
    {
     "data": {
      "text/plain": [
       "Index(['id', 'answer', 'context', 'question', 'model', 'gt_answer', 'dataset',\n",
       "       'gpt', 'claude', 'gemini'],\n",
       "      dtype='object')"
      ]
     },
     "execution_count": 29,
     "metadata": {},
     "output_type": "execute_result"
    }
   ],
   "source": [
    "df_filtered.columns"
   ]
  },
  {
   "cell_type": "code",
   "execution_count": 30,
   "metadata": {},
   "outputs": [],
   "source": [
    "df_filtered['Human Accuracy'] = dfh['Human Accuracy'].values\n",
    "df_filtered['Human Informativeness'] = dfh['Human Informativeness'].values\n",
    "df_filtered['Human'] = df_filtered['Human Accuracy'] + df_filtered['Human Informativeness']"
   ]
  },
  {
   "cell_type": "code",
   "execution_count": 34,
   "metadata": {},
   "outputs": [],
   "source": [
    "df_filtered.to_json('../data/wikieval/350_human.json', orient='records', lines=True)"
   ]
  },
  {
   "cell_type": "markdown",
   "metadata": {},
   "source": [
    "### rouge"
   ]
  },
  {
   "cell_type": "code",
   "execution_count": 36,
   "metadata": {},
   "outputs": [],
   "source": [
    "answers = df_filtered['answer'].values\n",
    "gt_answers = df_filtered['gt_answer'].values"
   ]
  },
  {
   "cell_type": "code",
   "execution_count": 42,
   "metadata": {},
   "outputs": [],
   "source": [
    "from rouge_score import rouge_scorer\n",
    "scorer = rouge_scorer.RougeScorer(['rougeL'], use_stemmer=True)\n",
    "score = scorer.score_multi([gt_answers[0]], answers[0])['rougeL'].fmeasure"
   ]
  },
  {
   "cell_type": "code",
   "execution_count": 44,
   "metadata": {},
   "outputs": [],
   "source": [
    "scores = []\n",
    "for i in range(len(answers)):\n",
    "    score = scorer.score_multi([gt_answers[i]], answers[i])['rougeL'].fmeasure\n",
    "    scores.append(score)"
   ]
  },
  {
   "cell_type": "code",
   "execution_count": 46,
   "metadata": {},
   "outputs": [],
   "source": [
    "df_filtered['Rouge L'] = scores"
   ]
  },
  {
   "cell_type": "markdown",
   "metadata": {},
   "source": [
    "### bertscore"
   ]
  },
  {
   "cell_type": "code",
   "execution_count": 48,
   "metadata": {},
   "outputs": [
    {
     "name": "stderr",
     "output_type": "stream",
     "text": [
      "Some weights of RobertaModel were not initialized from the model checkpoint at roberta-large and are newly initialized: ['roberta.pooler.dense.bias', 'roberta.pooler.dense.weight']\n",
      "You should probably TRAIN this model on a down-stream task to be able to use it for predictions and inference.\n"
     ]
    }
   ],
   "source": [
    "from bert_score import BERTScorer\n",
    "scorer = BERTScorer(lang='en')"
   ]
  },
  {
   "cell_type": "code",
   "execution_count": 53,
   "metadata": {},
   "outputs": [],
   "source": [
    "scores = []\n",
    "for i in range(len(answers)):\n",
    "    _, _, F1 = scorer.score([gt_answers[i]], [answers[i]])\n",
    "    scores.append(F1.max().tolist())"
   ]
  },
  {
   "cell_type": "code",
   "execution_count": 54,
   "metadata": {},
   "outputs": [],
   "source": [
    "df_filtered['Bert Score'] = scores"
   ]
  },
  {
   "cell_type": "markdown",
   "metadata": {},
   "source": [
    "## prompt"
   ]
  },
  {
   "cell_type": "code",
   "execution_count": 1,
   "metadata": {},
   "outputs": [],
   "source": [
    "FG_SYSTEM = \"\"\"Score the following llm output of a question answering task with respect to following aspects with 1 to 5 stars.\n",
    "\n",
    "Accuracy: determine the accuracy of the answers, verifying the correctness and reliability of the provided information.\n",
    "1 star means Incorrect information \n",
    "2 stars means Partially correct information \n",
    "3 stars means half correct information\n",
    "4 stars means Mostly correct information \n",
    "5 stars means Perfectly correct information\n",
    "\n",
    "Informativeness: examines whether the answers provide sufficient and meaningful information that useful to the user and relevant to the question.\n",
    "1 star means No information or irrelevant information\n",
    "2 star means Very little information\n",
    "3 stars means Some information\n",
    "4 stars means Enough information\n",
    "5 stars means Highly informative\n",
    "\n",
    "Begin your evaluation by providing a short explanation. Be as objective as possible. After providing your explanation, please provide your evaluation by strictly following the JSON format such as: [[SCORE]] {\"accuracy\": 2, \"informativeness\": 3}.\n",
    "\"\"\"\n",
    "\n",
    "TASK_INSTRUCTION = \"\"\"Score the following llm output of a question answering task with respect to following aspects with 1 to 5 stars.\"\"\"\n",
    "DATASET_INSTRUCTION = \"\"\"The dataset consists of 350 questions and answers. Each question has been answered by 3 evaluators and the answers have been generated by 3 different language models. The dataset also includes the ground truth answers.\"\"\"\n",
    "OUTPUT_INSTRUCTION = \"\"\"Begin your evaluation by providing a short explanation. Be as objective as possible. After providing your explanation, please provide your evaluation by strictly following the JSON format such as: [[SCORE]] {\"accuracy\": 2, \"informativeness\": 3}.\"\"\"\n",
    "ACC_INSTRUCTION = \"\"\"Accuracy: determine the accuracy of the answers, verifying the correctness and reliability of the provided information.\n",
    "1 star means Incorrect information \n",
    "2 stars means Partially correct information \n",
    "3 stars means half correct information\n",
    "4 stars means Mostly correct information \n",
    "5 stars means Perfectly correct information\"\"\"\n",
    "INF_INSTRUCTION = \"\"\"Informativeness: examines whether the answers provide sufficient and meaningful information that useful to the user and relevant to the question.\n",
    "1 star means No information or irrelevant information\n",
    "2 star means Very little information\n",
    "3 stars means Some information\n",
    "4 stars means Enough information\n",
    "5 stars means Highly informative\"\"\""
   ]
  },
  {
   "cell_type": "code",
   "execution_count": null,
   "metadata": {},
   "outputs": [],
   "source": []
  },
  {
   "cell_type": "code",
   "execution_count": 5,
   "metadata": {},
   "outputs": [],
   "source": [
    "SHORT_INSTRUCTION = \"\"\"Provide a brief, objective explanation, then rate the response from 1 to 10 using the format: Rating: [[X]].\n",
    "\"\"\"\n",
    "\n",
    "NORMAL_INSTRUCTION = \"\"\"Please act as an impartial judge and evaluate the quality of the response provided by an AI assistant to the user question displayed below. Your evaluation should consider factors such as the helpfulness, relevance, accuracy, depth, and level of detail of the response. Begin your evaluation by providing a short explanation. Be as objective as possible. After providing your explanation, please rate the response on a scale of 1 to 10 by strictly following this format: [[rating]], for example: Rating: [[5]].\n",
    "\"\"\"\n",
    "\n",
    "LONG_INSTRUCTION = \"\"\"You are tasked with assuming the role of an impartial and objective evaluator, meticulously assessing the quality of the response generated by an AI assistant in direct relation to the user's query, which is explicitly outlined below. \n",
    "\n",
    "In conducting your evaluation, you are expected to consider a comprehensive array of factors, including but not limited to:\n",
    "\n",
    "    - Helpfulness: The extent to which the response effectively addresses the user's question, providing clear, actionable, and useful information.\n",
    "    - Relevance: The degree to which the response remains focused on the specific topic or issue raised by the user, avoiding tangential or unrelated content.\n",
    "    - Accuracy: The factual correctness and reliability of the information provided in the response, ensuring that it aligns with established knowledge or evidence.\n",
    "    - Depth: The level of insight, analysis, or elaboration offered in the response, demonstrating a thorough understanding of the subject matter.\n",
    "    - Level of Detail: The amount of specific information, examples, or explanations included in the response, contributing to a richer and more informative answer.\n",
    "\n",
    "Your evaluation should begin with a concise yet comprehensive explanation of your assessment, highlighting the strengths and weaknesses of the AI assistant's response in relation to the aforementioned criteria. It is imperative that you maintain an objective and unbiased stance throughout this process, avoiding any personal opinions or subjective judgments.\n",
    "\n",
    "Upon completing your explanation, you are required to assign a numerical rating to the response, reflecting its overall quality. This rating must be provided on a scale ranging from 1 to 10, where 1 signifies a poor or inadequate response and 10 denotes an exceptional or outstanding one. The rating should be formatted strictly as follows: [[rating]], for example: Rating: [[5]].\n",
    "\n",
    "Please ensure that your evaluation is thorough, well-reasoned, and adheres to the guidelines outlined above.\n",
    "\"\"\"\n",
    "\n",
    "QA = \"\"\"[Question]\n",
    "{question}\n",
    "\n",
    "[The Start of Assistant’s Answer]\n",
    "{answer}\n",
    "[The End of Assistant’s Answer]\"\"\""
   ]
  },
  {
   "cell_type": "markdown",
   "metadata": {},
   "source": [
    "## wikieval"
   ]
  },
  {
   "cell_type": "code",
   "execution_count": 15,
   "metadata": {},
   "outputs": [],
   "source": [
    "df = load_data('../data/wikieval/3_evaluators.json')"
   ]
  },
  {
   "cell_type": "code",
   "execution_count": 37,
   "metadata": {},
   "outputs": [
    {
     "data": {
      "text/plain": [
       "Index(['id', 'answer', 'context', 'question', 'model', 'gt_answer', 'dataset',\n",
       "       'gpt', 'claude', 'gemini'],\n",
       "      dtype='object')"
      ]
     },
     "execution_count": 37,
     "metadata": {},
     "output_type": "execute_result"
    }
   ],
   "source": [
    "df.columns"
   ]
  },
  {
   "cell_type": "code",
   "execution_count": 38,
   "metadata": {},
   "outputs": [],
   "source": [
    "def gen_prompt(question, answer, ref=None, system_instruction='', user_instruction=QA):\n",
    "    if ref is not None:\n",
    "        return [\n",
    "            {\"role\": \"system\", \"content\": system_instruction.strip()},\n",
    "            {\"role\": \"user\", \"content\": user_instruction.format(question=question, answer=answer, answer_ref=ref)}\n",
    "        ]\n",
    "    else:\n",
    "        return [\n",
    "            {\"role\": \"system\", \"content\": system_instruction.strip()},\n",
    "            {\"role\": \"user\", \"content\": user_instruction.format(question=question, answer=answer)}\n",
    "        ]\n",
    "short_prompts = [gen_prompt(df['question'][i], df['answer'][i], df['gt_answer'][i], system_instruction=SHORT_INSTRUCTION) for i in range(len(df))]\n",
    "normal_prompts = [gen_prompt(df['question'][i], df['answer'][i], df['gt_answer'][i], system_instruction=NORMAL_INSTRUCTION) for i in range(len(df))]\n",
    "long_prompts = [gen_prompt(df['question'][i], df['answer'][i], df['gt_answer'][i], system_instruction=LONG_INSTRUCTION) for i in range(len(df))]"
   ]
  },
  {
   "cell_type": "code",
   "execution_count": 43,
   "metadata": {},
   "outputs": [
    {
     "name": "stderr",
     "output_type": "stream",
     "text": [
      "Generating: 100%|██████████| 500/500 [01:25<00:00,  5.86it/s]\n",
      "Generating: 100%|██████████| 309/309 [00:56<00:00,  5.43it/s]\n",
      "Generating: 100%|██████████| 199/199 [00:34<00:00,  5.83it/s]\n",
      "Generating: 100%|██████████| 114/114 [00:26<00:00,  4.38it/s]\n",
      "Generating: 100%|██████████| 500/500 [01:50<00:00,  4.53it/s]\n",
      "Generating: 100%|██████████| 500/500 [02:32<00:00,  3.27it/s]\n"
     ]
    }
   ],
   "source": [
    "# models = ['gpt-4o', 'claude-3-5-sonnet-20241022', 'gemini-2.0-flash-exp']\n",
    "model = 'gpt-4o'\n",
    "\n",
    "import time\n",
    "for prompts in [short_prompts, normal_prompts, long_prompts]:\n",
    "    timestamp = time.strftime(\"%Y%m%d_%H%M%S\")\n",
    "    llm_evaluator = OpenAILLM(model=model, \n",
    "                              _api_key_env_var=\"API_KEY\",\n",
    "                              base_url=os.getenv(\"BASE_URL\"),)\n",
    "\n",
    "    results, texts = evaluate(llm_evaluator, prompts, cache_path=None, max_workers=16)\n",
    "    scores, texts, results = get_score_and_re_eval(llm_evaluator, results, prompts, texts)\n",
    "    \n",
    "    with open(f\"../data/run/wikieval_{model}_{timestamp}.json\", \"a+\") as f:\n",
    "         f.write(json.dumps([results_to_dict(r) for r in results]))\n",
    "    \n",
    "    if prompts == short_prompts:\n",
    "        df['short_score'] = scores\n",
    "    elif prompts == normal_prompts:\n",
    "        df['normal_score'] = scores\n",
    "    else:\n",
    "        df['long_score'] = scores"
   ]
  },
  {
   "cell_type": "code",
   "execution_count": 45,
   "metadata": {},
   "outputs": [],
   "source": [
    "with open(f\"../data/run/wikieval_gpt-4o_20250119_174821.json\", \"r\") as f:\n",
    "    results = json.load(f)"
   ]
  },
  {
   "cell_type": "code",
   "execution_count": 47,
   "metadata": {},
   "outputs": [],
   "source": [
    "texts = [r['generations'][0][0]['text'] for r in results]"
   ]
  },
  {
   "cell_type": "code",
   "execution_count": 55,
   "metadata": {},
   "outputs": [],
   "source": [
    "scores = [int(t.split('Rating:')[-1][:6].split('\\n')[0].replace('[', '').replace(']', '').replace('-', '').replace('.', '').strip()) for t in texts]"
   ]
  },
  {
   "cell_type": "code",
   "execution_count": 56,
   "metadata": {},
   "outputs": [],
   "source": [
    "df['short_score'] = scores"
   ]
  },
  {
   "cell_type": "code",
   "execution_count": 58,
   "metadata": {},
   "outputs": [],
   "source": [
    "df.to_json('../data/wikieval/prompts.json', orient='records')"
   ]
  },
  {
   "cell_type": "markdown",
   "metadata": {},
   "source": [
    "## asqa"
   ]
  },
  {
   "cell_type": "code",
   "execution_count": 62,
   "metadata": {},
   "outputs": [
    {
     "name": "stderr",
     "output_type": "stream",
     "text": [
      "Generating train split: 343 examples [00:00, 11064.89 examples/s]\n"
     ]
    }
   ],
   "source": [
    "df = load_data('../data/asqa/asqa_with_human_343.json')"
   ]
  },
  {
   "cell_type": "code",
   "execution_count": 64,
   "metadata": {},
   "outputs": [
    {
     "data": {
      "text/plain": [
       "Index(['ambiguous_question', 'qa_pairs', 'wikipages', 'annotations',\n",
       "       'sample_id', 'response', 'answers', 'answer_length', 'long_answers',\n",
       "       'short_answers', 'long_answer_length', 'short_answer_length',\n",
       "       'response_length', 'answer_relevance_prompt',\n",
       "       'answers_relevance_completion', 'answers_relevance_res',\n",
       "       'response_with_ref_prompt', 'response_with_ref_completion',\n",
       "       'response_with_ref_score', 'Rouge L', 'Exact Match', 'Disambig F1',\n",
       "       'BERT Score', 'GPT-4o Accuracy', 'GPT-4o Informativeness',\n",
       "       'Answer Relevance', 'Human Accuracy', 'Human Informativeness', 'model',\n",
       "       'GPT-4o Fine-grained', 'Human', 'Claude-3.5', 'Gemini-2.0', 'GPT-4o'],\n",
       "      dtype='object')"
      ]
     },
     "execution_count": 64,
     "metadata": {},
     "output_type": "execute_result"
    }
   ],
   "source": [
    "df.columns"
   ]
  },
  {
   "cell_type": "code",
   "execution_count": 65,
   "metadata": {},
   "outputs": [],
   "source": [
    "short_prompts = [gen_prompt(df['ambiguous_question'][i], df['answers'][i], df['long_answers'][i], system_instruction=SHORT_INSTRUCTION) for i in range(len(df))]\n",
    "normal_prompts = [gen_prompt(df['ambiguous_question'][i], df['answers'][i], df['long_answers'][i], system_instruction=NORMAL_INSTRUCTION) for i in range(len(df))]\n",
    "long_prompts = [gen_prompt(df['ambiguous_question'][i], df['answers'][i], df['long_answers'][i], system_instruction=LONG_INSTRUCTION) for i in range(len(df))]"
   ]
  },
  {
   "cell_type": "code",
   "execution_count": 67,
   "metadata": {},
   "outputs": [
    {
     "name": "stderr",
     "output_type": "stream",
     "text": [
      "Generating: 100%|██████████| 343/343 [00:58<00:00,  5.87it/s]\n",
      "Generating: 100%|██████████| 89/89 [00:17<00:00,  5.22it/s]\n",
      "Generating: 100%|██████████| 343/343 [01:15<00:00,  4.55it/s]\n",
      "Generating: 100%|██████████| 343/343 [01:37<00:00,  3.51it/s]\n"
     ]
    }
   ],
   "source": [
    "# models = ['gpt-4o', 'claude-3-5-sonnet-20241022', 'gemini-2.0-flash-exp']\n",
    "model = 'gpt-4o'\n",
    "\n",
    "import time\n",
    "for prompts in [short_prompts, normal_prompts, long_prompts]:\n",
    "    timestamp = time.strftime(\"%Y%m%d_%H%M%S\")\n",
    "    llm_evaluator = OpenAILLM(model=model, \n",
    "                              _api_key_env_var=\"API_KEY\",\n",
    "                              base_url=os.getenv(\"BASE_URL\"),)\n",
    "\n",
    "    results, texts = evaluate(llm_evaluator, prompts, cache_path=None, max_workers=16)\n",
    "    scores, texts, results = get_score_and_re_eval(llm_evaluator, results, prompts, texts)\n",
    "    \n",
    "    with open(f\"../data/run/wikieval_{model}_{timestamp}.json\", \"a+\") as f:\n",
    "         f.write(json.dumps([results_to_dict(r) for r in results]))\n",
    "    \n",
    "    if prompts == short_prompts:\n",
    "        df['short_score'] = scores\n",
    "    elif prompts == normal_prompts:\n",
    "        df['normal_score'] = scores\n",
    "    else:\n",
    "        df['long_score'] = scores"
   ]
  },
  {
   "cell_type": "code",
   "execution_count": 69,
   "metadata": {},
   "outputs": [],
   "source": [
    "df.to_json('../data/asqa/prompts.json', orient='records')"
   ]
  },
  {
   "cell_type": "markdown",
   "metadata": {},
   "source": [
    "## analysis"
   ]
  },
  {
   "cell_type": "code",
   "execution_count": 59,
   "metadata": {},
   "outputs": [],
   "source": [
    "df = pd.read_json('../data/wikieval/prompts.json')"
   ]
  },
  {
   "cell_type": "code",
   "execution_count": 3,
   "metadata": {},
   "outputs": [
    {
     "name": "stderr",
     "output_type": "stream",
     "text": [
      "Generating train split: 343 examples [00:00, 2794.40 examples/s]\n"
     ]
    }
   ],
   "source": [
    "df = load_data('../data/asqa/prompts.json')"
   ]
  },
  {
   "cell_type": "code",
   "execution_count": 70,
   "metadata": {},
   "outputs": [
    {
     "data": {
      "text/plain": [
       "Index(['ambiguous_question', 'qa_pairs', 'wikipages', 'annotations',\n",
       "       'sample_id', 'response', 'answers', 'answer_length', 'long_answers',\n",
       "       'short_answers', 'long_answer_length', 'short_answer_length',\n",
       "       'response_length', 'answer_relevance_prompt',\n",
       "       'answers_relevance_completion', 'answers_relevance_res',\n",
       "       'response_with_ref_prompt', 'response_with_ref_completion',\n",
       "       'response_with_ref_score', 'Rouge L', 'Exact Match', 'Disambig F1',\n",
       "       'BERT Score', 'GPT-4o Accuracy', 'GPT-4o Informativeness',\n",
       "       'Answer Relevance', 'Human Accuracy', 'Human Informativeness', 'model',\n",
       "       'GPT-4o Fine-grained', 'Human', 'Claude-3.5', 'Gemini-2.0', 'GPT-4o',\n",
       "       'short_score', 'normal_score', 'long_score'],\n",
       "      dtype='object')"
      ]
     },
     "execution_count": 70,
     "metadata": {},
     "output_type": "execute_result"
    }
   ],
   "source": [
    "df.columns"
   ]
  },
  {
   "cell_type": "code",
   "execution_count": 72,
   "metadata": {},
   "outputs": [
    {
     "name": "stderr",
     "output_type": "stream",
     "text": [
      "C:\\Users\\1\\AppData\\Local\\Temp\\ipykernel_71948\\102845696.py:7: FutureWarning: \n",
      "\n",
      "`shade` is now deprecated in favor of `fill`; setting `fill=True`.\n",
      "This will become an error in seaborn v0.14.0; please update your code.\n",
      "\n",
      "  sns.kdeplot(df['short_score'], label='Short Score', shade=True)\n",
      "C:\\Users\\1\\AppData\\Local\\Temp\\ipykernel_71948\\102845696.py:8: FutureWarning: \n",
      "\n",
      "`shade` is now deprecated in favor of `fill`; setting `fill=True`.\n",
      "This will become an error in seaborn v0.14.0; please update your code.\n",
      "\n",
      "  sns.kdeplot(df['normal_score'], label='Normal Score', shade=True)\n",
      "C:\\Users\\1\\AppData\\Local\\Temp\\ipykernel_71948\\102845696.py:9: FutureWarning: \n",
      "\n",
      "`shade` is now deprecated in favor of `fill`; setting `fill=True`.\n",
      "This will become an error in seaborn v0.14.0; please update your code.\n",
      "\n",
      "  sns.kdeplot(df['long_score'], label='Long Score', shade=True)\n",
      "C:\\Users\\1\\AppData\\Local\\Temp\\ipykernel_71948\\102845696.py:10: FutureWarning: \n",
      "\n",
      "`shade` is now deprecated in favor of `fill`; setting `fill=True`.\n",
      "This will become an error in seaborn v0.14.0; please update your code.\n",
      "\n",
      "  sns.kdeplot(df['Human'], label='Human Score', shade=True)\n"
     ]
    },
    {
     "data": {
      "image/png": "[encoded data removed]",
      "text/plain": [
       "<Figure size 1000x600 with 1 Axes>"
      ]
     },
     "metadata": {},
     "output_type": "display_data"
    }
   ],
   "source": [
    "import seaborn as sns\n",
    "\n",
    "import matplotlib.pyplot as plt\n",
    "\n",
    "# 绘制 KDE 图\n",
    "plt.figure(figsize=(10, 6))\n",
    "sns.kdeplot(df['short_score'], label='Short Score', shade=True)\n",
    "sns.kdeplot(df['normal_score'], label='Normal Score', shade=True)\n",
    "sns.kdeplot(df['long_score'], label='Long Score', shade=True)\n",
    "sns.kdeplot(df['Human'], label='Human Score', shade=True)\n",
    "\n",
    "# 添加标题和标签\n",
    "plt.xlabel('Score')\n",
    "plt.ylabel('Density')\n",
    "plt.legend()\n",
    "\n",
    "# 显示图形\n",
    "plt.show()"
   ]
  },
  {
   "cell_type": "code",
   "execution_count": 5,
   "metadata": {},
   "outputs": [
    {
     "name": "stdout",
     "output_type": "stream",
     "text": [
      "spearman, short vs human: 45.36572793978562\n",
      "spearman, normal vs human: 42.364714135188\n",
      "spearman, long vs human: 36.12349858417613\n",
      "kendall: 35.159879037285236\n",
      "kendall: 32.943393308593315\n",
      "kendall: 27.65181809352099\n"
     ]
    }
   ],
   "source": [
    "from src.consistency import  calculate_correlation\n",
    "# print(calculate_correlation(df['short_score'], df['normal_score']))\n",
    "# print(calculate_correlation(df['short_score'], df['long_score']))\n",
    "# print(calculate_correlation(df['normal_score'], df['long_score']))\n",
    "print('spearman, short vs human:', calculate_correlation(df['short_score'], df['Human']))\n",
    "print('spearman, normal vs human:', calculate_correlation(df['normal_score'], df['Human']))\n",
    "print('spearman, long vs human:', calculate_correlation(df['long_score'], df['Human']))\n",
    "\n",
    "print('kendall:', calculate_correlation(df['short_score'], df['Human'],'t'))\n",
    "print('kendall:', calculate_correlation(df['normal_score'], df['Human'],'t'))\n",
    "print('kendall:', calculate_correlation(df['long_score'], df['Human'],'t'))"
   ]
  },
  {
   "cell_type": "code",
   "execution_count": 7,
   "metadata": {},
   "outputs": [
    {
     "data": {
      "text/plain": [
       "Index(['ambiguous_question', 'qa_pairs', 'wikipages', 'annotations',\n",
       "       'sample_id', 'response', 'answers', 'answer_length', 'long_answers',\n",
       "       'short_answers', 'long_answer_length', 'short_answer_length',\n",
       "       'response_length', 'answer_relevance_prompt',\n",
       "       'answers_relevance_completion', 'answers_relevance_res',\n",
       "       'response_with_ref_prompt', 'response_with_ref_completion',\n",
       "       'response_with_ref_score', 'Rouge L', 'Exact Match', 'Disambig F1',\n",
       "       'BERT Score', 'GPT-4o Accuracy', 'GPT-4o Informativeness',\n",
       "       'Answer Relevance', 'Human Accuracy', 'Human Informativeness', 'model',\n",
       "       'GPT-4o Fine-grained', 'Human', 'Claude-3.5', 'Gemini-2.0', 'GPT-4o',\n",
       "       'short_score', 'normal_score', 'long_score'],\n",
       "      dtype='object')"
      ]
     },
     "execution_count": 7,
     "metadata": {},
     "output_type": "execute_result"
    }
   ],
   "source": [
    "df.columns"
   ]
  },
  {
   "cell_type": "code",
   "execution_count": 8,
   "metadata": {},
   "outputs": [
    {
     "name": "stdout",
     "output_type": "stream",
     "text": [
      "85.91078253388837\n",
      "78.43954713610246\n",
      "86.97798548851894\n",
      "66.2492725100715\n",
      "85.19582746739589\n"
     ]
    }
   ],
   "source": [
    "print(calculate_correlation(df['short_score'], df['normal_score']))\n",
    "print(calculate_correlation(df['short_score'], df['long_score']))\n",
    "print(calculate_correlation(df['normal_score'], df['long_score']))\n",
    "print(calculate_correlation(df['long_score'], df['GPT-4o Fine-grained']))\n",
    "print(calculate_correlation(df['normal_score'], df['GPT-4o']))"
   ]
  },
  {
   "cell_type": "code",
   "execution_count": 73,
   "metadata": {},
   "outputs": [
    {
     "name": "stdout",
     "output_type": "stream",
     "text": [
      "Short Score and Human Score Correlation: 0.4452183028606176\n",
      "Normal Score and Human Score Correlation: 0.4112810013267943\n",
      "Long Score and Human Score Correlation: 0.3650462501357422\n"
     ]
    }
   ],
   "source": [
    "# 计算三种评分和human评分之间的皮尔逊相关系数\n",
    "short_human_corr = df['short_score'].corr(df['Human'])\n",
    "normal_human_corr = df['normal_score'].corr(df['Human'])\n",
    "long_human_corr = df['long_score'].corr(df['Human'])\n",
    "\n",
    "print(f\"Short Score and Human Score Correlation: {short_human_corr}\")\n",
    "print(f\"Normal Score and Human Score Correlation: {normal_human_corr}\")\n",
    "print(f\"Long Score and Human Score Correlation: {long_human_corr}\")"
   ]
  }
 ],
 "metadata": {
  "kernelspec": {
   "display_name": "rag",
   "language": "python",
   "name": "python3"
  },
  "language_info": {
   "codemirror_mode": {
    "name": "ipython",
    "version": 3
   },
   "file_extension": ".py",
   "mimetype": "text/x-python",
   "name": "python",
   "nbconvert_exporter": "python",
   "pygments_lexer": "ipython3",
   "version": "3.10.15"
  }
 },
 "nbformat": 4,
 "nbformat_minor": 2
}
